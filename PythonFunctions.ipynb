{
  "nbformat": 4,
  "nbformat_minor": 0,
  "metadata": {
    "colab": {
      "name": "PythonFunctions.ipynb",
      "provenance": [],
      "collapsed_sections": [
        "PefKfof4TLA3",
        "GfjswfR6Sr4a",
        "1HBqHRY8TZoz",
        "EUKd4EQQU3ZL",
        "GwhpCNSiWY82",
        "5NnvqWWwXS9c",
        "q52Bbf4NYLPC"
      ],
      "toc_visible": true
    },
    "kernelspec": {
      "name": "python3",
      "display_name": "Python 3"
    }
  },
  "cells": [
    {
      "cell_type": "markdown",
      "metadata": {
        "id": "JgYsT3kkclWJ"
      },
      "source": [
        "#**Python Basic Function & Packages**"
      ]
    },
    {
      "cell_type": "markdown",
      "metadata": {
        "id": "PefKfof4TLA3"
      },
      "source": [
        "#Python Basics"
      ]
    },
    {
      "cell_type": "markdown",
      "metadata": {
        "id": "ZBtGfopmTKv9"
      },
      "source": [
        ""
      ]
    },
    {
      "cell_type": "markdown",
      "metadata": {
        "id": "8PFvLQ22cu1t"
      },
      "source": [
        "**Basic Intro **\n",
        "\n",
        "Linux Terminal:\n",
        "! [commands]\n",
        "EX:\n",
        "!ls !cp..."
      ]
    },
    {
      "cell_type": "code",
      "metadata": {
        "id": "Ixlej19Scqw4"
      },
      "source": [
        "!ls"
      ],
      "execution_count": null,
      "outputs": []
    },
    {
      "cell_type": "code",
      "metadata": {
        "id": "b67ARimUfxq8"
      },
      "source": [
        "!cat /proc/cpuinfo"
      ],
      "execution_count": null,
      "outputs": []
    },
    {
      "cell_type": "code",
      "metadata": {
        "id": "GNJUNOiYgHxY"
      },
      "source": [
        "!cat /proc/meminfo"
      ],
      "execution_count": null,
      "outputs": []
    },
    {
      "cell_type": "code",
      "metadata": {
        "id": "U_DLuGWJgctV"
      },
      "source": [
        "name = 'ram'\n",
        "print (name)"
      ],
      "execution_count": null,
      "outputs": []
    },
    {
      "cell_type": "code",
      "metadata": {
        "id": "8ftjdTBvMZ-d"
      },
      "source": [
        "a = 10\n",
        "b = 20\n",
        "print(a+b, \"\", b-a, \"\", a*b)"
      ],
      "execution_count": null,
      "outputs": []
    },
    {
      "cell_type": "code",
      "metadata": {
        "id": "c3TmKhZbM1no"
      },
      "source": [
        "'''\n",
        "Topic: Basics\n",
        "'''\n",
        "print('Hellow world')\n",
        "print('simple  hello message')\n",
        "\n",
        "# format strings\n",
        "a=23.34679\n",
        "print('%3f'%a)\n",
        "print(\"{1:.2f} {0:.3f}\".format(12.3152, 89.65431))"
      ],
      "execution_count": null,
      "outputs": []
    },
    {
      "cell_type": "code",
      "metadata": {
        "id": "XyS4QVNgNdd0"
      },
      "source": [
        "'''\n",
        "Topic: Variables and different types\n",
        "'''\n",
        "'''\n",
        "int, float, string, list, tuple, set, dict, etc.\n",
        "'''\n",
        "\n",
        "int_type = 100              # An integer assignment\n",
        "float_type   = 10.6             # A floating point\n",
        "string    = \"Hello world\"    # A string\n",
        "\n",
        "print(int_type, type(int_type))\n",
        "print(float_type, type(float_type))\n",
        "print(string, type(string))\n",
        "\n",
        "l = []\n",
        "print(l, type(l))\n",
        "\n",
        "t = ()\n",
        "print(t, type(t))\n",
        "\n",
        "st = set()\n",
        "print(st, type(st))\n",
        "\n",
        "d = {}\n",
        "print(d, type(d))\n",
        "\n",
        "\n",
        "'''\n",
        "invalid variable\n",
        "1 = 10\n",
        "var* = 5\n",
        "'''\n",
        "\n",
        "# valid variables\n",
        "_1 = 1\n",
        "print(_1)\n",
        "one = 1"
      ],
      "execution_count": null,
      "outputs": []
    },
    {
      "cell_type": "code",
      "metadata": {
        "id": "pr5IohmLNvji"
      },
      "source": [
        "'''\n",
        "Topic: Operators\n",
        "'''\n",
        "'''\n",
        "Arthmetic   ->  +, -, *, /, **, //, %\n",
        "Assignment  ->  +=, -=, *=, /=, **=, //=, %=\n",
        "Relational  ->  <, >, <=, >=, ==, !=\n",
        "Logical     ->  and, or, not\n",
        "Membership  ->  in, not in\n",
        "Identity    ->  is, is not\n",
        "Bitwise     ->  <<, >>, &, |, ^, ~\n",
        "'''\n",
        "\n",
        "\n",
        "# Arthmetic\n",
        "print(5+6,\"\\n\", 5-3,\"\\n\", 3*2,\"\\n\",2**2,\"\\n\", 5/3,\"\\n\", 5//3,\"\\n\", 5%2)\n",
        "\n",
        "# Assignment\n",
        "c = 1\n",
        "# c =c + 10\n",
        "c += 10\n",
        "print(c)\n",
        "\n",
        "# Relational & Logical\n",
        "a,b=5,10\n",
        "print(a<b and a!=0)\n",
        "\n",
        "\n",
        "# Membership\n",
        "print(5 in [2,3,4,5,6,7])\n",
        "print(1 in [2,3,4,5,6,7])\n",
        "print(1 not in [2,3,4,5,6,7])\n",
        "\n",
        "# Identity\n",
        "print(5 is [2,3,4,5,6,7])\n",
        "print(5 is not [2,3,4,5,6,7])\n",
        "\n",
        "print([2,3,4,5,6,7] is [2,3,4,5,6,7])\n",
        "print([2,3,4,5,6,7] is not [2,3,4,5,6,7,8])\n",
        "\n",
        "\n",
        "# Bitwise\n",
        "a=60\n",
        "b=13\n",
        "c=0\n",
        "print(a&b)\n",
        "print(a|b)\n",
        "print(a^b)\n",
        "print(~a)\n",
        "print(a<<2)\n",
        "print(a>>2)"
      ],
      "execution_count": null,
      "outputs": []
    },
    {
      "cell_type": "code",
      "metadata": {
        "id": "o6hCFVFLOEV8"
      },
      "source": [
        "'''\n",
        "Topic: Conditional Statements\n",
        "'''\n",
        "\n",
        "'''\n",
        "if statements\n",
        "if...else statements\n",
        "elif statements\n",
        "'''\n",
        "\n",
        "var1 = 100\n",
        "# if statements\n",
        "if var1:\n",
        "   print(\"Got a true expression value\")\n",
        "   print(var1)\n",
        "\n",
        "\n",
        "# if...else statements\n",
        "if var1:\n",
        "   print(\"Got a true expression value\")\n",
        "   print(var1)\n",
        "else:\n",
        "   print(\"Got a false expression value\")\n",
        "   print(var1)\n",
        "\n",
        "# elif statements\n",
        "var = 100\n",
        "if var == 200:\n",
        "   print(\"1 - Got a true expression value\")\n",
        "   print(var)\n",
        "elif var == 150:\n",
        "   print(\"2 - Got a true expression value\")\n",
        "   print(var)\n",
        "elif var == 100:\n",
        "   print(\"3 - Got a true expression value\")\n",
        "   print(var)\n",
        "else:\n",
        "   print(\"4 - Got a false expression value\")\n",
        "   print(var)\n",
        "\n",
        "print(\"Good bye!\")\n",
        "\n",
        "\n",
        "# Your task is to understand and implement the nested if statement"
      ],
      "execution_count": null,
      "outputs": []
    },
    {
      "cell_type": "code",
      "metadata": {
        "id": "Qhn90WESOuR8",
        "outputId": "b20417be-dfe7-491b-8c35-802b2fe70c70",
        "colab": {
          "base_uri": "https://localhost:8080/"
        }
      },
      "source": [
        "'''\n",
        "Topic: Loops and Control statements\n",
        "'''\n",
        "\n",
        "'''\n",
        "for loop\n",
        "while, while else loops\n",
        "break, continue, pass\n",
        "'''\n",
        "\n",
        "# for loop\n",
        "for letter in 'Python':\n",
        "   print('Current Letter :', letter)\n",
        "\n",
        "fruits = ['banana', 'apple',  'mango']\n",
        "for fruit in fruits:\n",
        "   print('Current fruit :', fruit)\n",
        "\n",
        "for index in range(len(fruits)):\n",
        "   print('Current fruit :', index, fruits[index])\n",
        "\n",
        "for index in range(2,10,2):\n",
        "    print(index)\n",
        "\n",
        "# understand the range() method increment in for loop and implement decrement\n",
        "\n",
        "# while loop\n",
        "count = 0\n",
        "while (count < 9):\n",
        "   print('The count is:', count)\n",
        "   count = count + 1\n",
        "\n",
        "# while else loop\n",
        "while count < 5:\n",
        "   print(count, \" is  less than 5\")\n",
        "   count = count + 1\n",
        "else:\n",
        "   print(count, \" is not less than 5\")\n",
        "\n",
        "# do..while is absence in python\n",
        "# your task to implement do..while concept with while loop\n",
        "\n",
        "## control statements\n",
        "var = 10\n",
        "# break\n",
        "while var > 0:              \n",
        "   print('Current variable value :', var)\n",
        "   var = var -1\n",
        "   if var == 5:\n",
        "      break\n",
        "\n",
        "# continue\n",
        "while var > 0:              \n",
        "   var = var -1\n",
        "   if var == 5:\n",
        "      continue\n",
        "   print('Current variable value :', var)\n",
        "\n",
        "# pass\n",
        "for letter in 'Python': \n",
        "   if letter == 'h':\n",
        "      pass\n",
        "      print('This is pass block')\n",
        "   print('Current Letter :', letter)"
      ],
      "execution_count": null,
      "outputs": [
        {
          "output_type": "stream",
          "text": [
            "Current Letter : P\n",
            "Current Letter : y\n",
            "Current Letter : t\n",
            "Current Letter : h\n",
            "Current Letter : o\n",
            "Current Letter : n\n",
            "Current fruit : banana\n",
            "Current fruit : apple\n",
            "Current fruit : mango\n",
            "Current fruit : 0 banana\n",
            "Current fruit : 1 apple\n",
            "Current fruit : 2 mango\n",
            "2\n",
            "4\n",
            "6\n",
            "8\n",
            "The count is: 0\n",
            "The count is: 1\n",
            "The count is: 2\n",
            "The count is: 3\n",
            "The count is: 4\n",
            "The count is: 5\n",
            "The count is: 6\n",
            "The count is: 7\n",
            "The count is: 8\n",
            "9  is not less than 5\n",
            "Current variable value : 10\n",
            "Current variable value : 9\n",
            "Current variable value : 8\n",
            "Current variable value : 7\n",
            "Current variable value : 6\n",
            "Current variable value : 4\n",
            "Current variable value : 3\n",
            "Current variable value : 2\n",
            "Current variable value : 1\n",
            "Current variable value : 0\n",
            "Current Letter : P\n",
            "Current Letter : y\n",
            "Current Letter : t\n",
            "This is pass block\n",
            "Current Letter : h\n",
            "Current Letter : o\n",
            "Current Letter : n\n"
          ],
          "name": "stdout"
        }
      ]
    },
    {
      "cell_type": "code",
      "metadata": {
        "id": "Wy89UNBkO32H"
      },
      "source": [
        "'''\n",
        "Topic: Strings\n",
        "'''\n",
        "\n",
        "import string\n",
        "\n",
        "s='i love proram'\n",
        "\n",
        "if len(s)<= 100:\n",
        "    print(s)\n",
        "\n",
        "\n",
        "s='Checking the network cables'\n",
        "s1= 'modem and router'\n",
        "\n",
        "\n",
        "print(len(s))                  # return length of string\n",
        "print(s1.capitalize())         # Converts first character to Capital Letter\n",
        "print(s1.title())              # Returns a Title Cased String\n",
        "print(s.center(80,' '))        # Pads string with specified character\n",
        "print(s.startswith('Ch',2,10)) # Checks if String Starts with the Specified String\n",
        "print(s1.endswith('r'))        # Checks if String Ends with the Specified Suffix\n",
        "print(s.isalnum())             # Checks Alphanumeric Character\n",
        "print(s.isalpha())             # Checks if All Characters are Alphabets\n",
        "print('343434'.isdigit())      # Checks Digit Characters\n",
        "print(s1.find('e',2,10))       # Returns the index of first occurrence of substring\n",
        "print(s.islower())             # Checks if all Alphabets in a String are Lowercase\n",
        "print('SDFSDF'.isupper())      # returns True if all characters are uppercase\n",
        "print(s.isnumeric())           # Checks Numeric Characters\n",
        "print(s1.lower())              # returns lowercased string\n",
        "print(s1.upper())              # returns uppercased string\n",
        "print(s.swapcase())            # swap uppercase characters to lowercase; vice versa\n",
        "print(s.isspace())             # Checks Whitespace Characters\n",
        "print(s.istitle())             # Checks for Titlecased String\n",
        "print(s.count('e',4,8))        # returns occurrences of substring in string\n",
        "print(s1.zfill(70))            # Returns a Copy of The String Padded With Zeros\n",
        "print(s1.replace('e','%',2))   # Replaces Substring Inside\n",
        "print(s.rstrip('*'))           # Removes Trailing Characters\n",
        "print(s.lstrip('*'))           # Removes Leading Characters\n",
        "print(s1.rjust(100,'^'))       # returns right-justified string of given width\n",
        "print(s1.ljust(50,'#'))        # returns left-justified string of given width\n",
        "print(s.split())               # split and returns value in list type\n",
        "\n",
        "\n",
        "i ,o = 'aeiou', '12345'\n",
        "#tr=maketrans(i,o)              # returns a translation table\n",
        "#print(s1.translate(tr))        # returns mapped charactered string"
      ],
      "execution_count": null,
      "outputs": []
    },
    {
      "cell_type": "code",
      "metadata": {
        "id": "8UxHcBA1O_7F"
      },
      "source": [
        "'''\n",
        "Topic: Lists\n",
        "'''\n",
        "\n",
        "'''\n",
        "append()   -  Adds an element at the end of the list\n",
        "clear()\t   -  Removes all the elements from the list\n",
        "copy()\t   -  Returns a copy of the list\n",
        "count()\t   -  Returns the number of elements with the specified value\n",
        "extend()   -  Add the elements of a list (or any iterable), to the end of the current list\n",
        "index()\t   -  Returns the index of the first element with the specified value\n",
        "insert()   -  Adds an element at the specified position\n",
        "pop()\t     -  Removes the element at the specified position\n",
        "remove()   -  Removes the first item with the specified value\n",
        "reverse()  -  Reverses the order of the list\n",
        "sort()\t   -  Sorts the list \n",
        "min()      -  Returns minimum value from list\n",
        "max()      -  Returns maximum value from list\n",
        "len()      -  Return length\n",
        "'''\n",
        "\n",
        "cars = ['Ford','banana', 'Mitsubishi', 'BMW', 'VW']\n",
        "\n",
        "cars.sort()\n",
        "print(cars)\n",
        "\n",
        "def myFunc(e):\n",
        "  return len(e)\n",
        "\n",
        "cars.sort(key=myFunc)\n",
        "print(cars)\n",
        "\n",
        "cars.reverse()\n",
        "print(fruits)\n",
        "\n",
        "\n",
        "cars.remove(\"banana\")\n",
        "print(cars)\n",
        "cars.remove(\"VW\")\n",
        "print(cars)\n",
        "\n",
        "cars.pop()\n",
        "print(cars)\n",
        "\n",
        "cars.insert(1, \"Hyundai\")\n",
        "print(cars)\n",
        "\n",
        "print(cars.index('BMW'))\n",
        "\n",
        "cars.extend(['volvo','benz'])\n",
        "print(cars)\n",
        "\n",
        "print(cars.count('Hyundai'))\n",
        "\n",
        "temp = cars.copy()\n",
        "print(temp)\n",
        "\n",
        "a = ['Maruthi','Mahindra']\n",
        "cars.append(a)\n",
        "print(cars)\n",
        "\n",
        "temp.clear()\n",
        "print(temp)\n",
        "\n",
        "ll = [23,45,67,98,4,76,33,43]\n",
        "print(min(ll))\n",
        "\n",
        "print(max(ll))"
      ],
      "execution_count": null,
      "outputs": []
    },
    {
      "cell_type": "code",
      "metadata": {
        "id": "IRXuVrkLPhQP"
      },
      "source": [
        "'''\n",
        "Topic: Tuple\n",
        "'''\n",
        "\n",
        "'''\n",
        "min()      -  Returns minimum value from list\n",
        "max()      -  Returns maximum value from list\n",
        "len()      -  Return length\n",
        "count()\t   -  Returns the number of elements with the specified value\n",
        "'''\n",
        "\n",
        "\n",
        "my_tuple = ()\n",
        "print(my_tuple)\n",
        "print(type(my_tuple))\n",
        "\n",
        "# Tuple having integers\n",
        "my_tuple = (1, 2, 3)\n",
        "print(my_tuple)\n",
        "\n",
        "# tuple with mixed datatypes\n",
        "my_tuple = (1, \"Hello\", 3.4)\n",
        "print(my_tuple)\n",
        "\n",
        "# nested tuple\n",
        "my_tuple = (\"mouse\", [8, 4, 6], (1, 2, 3))\n",
        "print(my_tuple)\n",
        "\n",
        "print(my_tuple.count('mouse'))\n",
        "\n",
        "a=input('Enter value'),\n",
        "print(a)\n",
        "print(type(a))"
      ],
      "execution_count": null,
      "outputs": []
    },
    {
      "cell_type": "code",
      "metadata": {
        "id": "Hf5A1ctZP9gN"
      },
      "source": [
        "'''\n",
        "Topic: Dictonary\n",
        "'''\n",
        "\n",
        "'''\n",
        "copy()\t        Returns Shallow Copy of a Dictionary\n",
        "fromkeys()\t    creates dictionary from given sequence\n",
        "get()\t        Returns Value of The Key\n",
        "items()\t        Returns view of dictionary's (key, value) pair\n",
        "keys()\t        Returns View Object of All Keys\n",
        "setdefault()\tInserts Key With a Value if Key is not Present\n",
        "values()\t    returns view of all values in dictionary\n",
        "update()\t    Updates the Dictionary\n",
        "popitem()\t    Returns & Removes Element From Dictionary\n",
        "pop()\t        Removes and returns element having given key\n",
        "clear()\t        Removes all Items\n",
        "'''\n",
        "\n",
        "my_dict = {}\n",
        "print(my_dict)\n",
        "\n",
        "my_dict = {1: 'apple', 2: 'ball'}\n",
        "print(my_dict)\n",
        "\n",
        "my_dict = {'name': 'John', 1: [2, 4, 3]}\n",
        "print(my_dict)\n",
        "\n",
        "my_dict = dict({1:'apple', 2:'ball'})\n",
        "print(my_dict)\n",
        "\n",
        "my_dict = dict([(1,'apple'), (2,'ball')])\n",
        "print(my_dict)\n",
        "\n",
        "se = ('name','age','address')\n",
        "d = dict.fromkeys(se)\n",
        "print(d)\n",
        "\n",
        "my_dict = {'name':'Jack', 'age': 26}\n",
        "\n",
        "print(my_dict['name'])\n",
        "print(my_dict.get('age'))\n",
        "\n",
        "temp = my_dict.copy()\n",
        "print(temp)\n",
        "\n",
        "#removed in python3\n",
        "#print(my_dict.has_key('age'))\n",
        "\n",
        "print(my_dict.items())\n",
        "\n",
        "print(my_dict.keys())\n",
        "\n",
        "my_dict.setdefault('mobile',None)\n",
        "print(my_dict)\n",
        "\n",
        "temp_d = {'email':'ram@gmail.com'}\n",
        "my_dict.update(temp_d)\n",
        "print(my_dict)\n",
        "\n",
        "print(my_dict.values())\n",
        "\n",
        "result = my_dict.popitem()\n",
        "print(result)\n",
        "\n",
        "res = my_dict.pop('age')\n",
        "print(res)\n",
        "print(my_dict)\n",
        "\n",
        "my_dict.clear()\n",
        "print(my_dict)"
      ],
      "execution_count": null,
      "outputs": []
    },
    {
      "cell_type": "code",
      "metadata": {
        "id": "pufSy4NcQM6Y"
      },
      "source": [
        "'''\n",
        "Topic: Sets\n",
        "'''\n",
        "\n",
        "s = {\"apple\", \"banana\", \"cherry\"}\n",
        "print(s)\n",
        "\n",
        "for x in s:\n",
        "  print(x)\n",
        "print(\"banana\" in s)\n",
        "\n",
        "# add element to set\n",
        "s.add(\"orange\")\n",
        "print(s)\n",
        "\n",
        "# update set with union of this set and others\n",
        "s.update([\"orange\", \"mango\", \"grapes\"])\n",
        "print(s)\n",
        "print(len(s))\n",
        "s.remove(\"banana\")\n",
        "print('remeove',s)\n",
        "\n",
        "# removed specified item\n",
        "s.discard(\"apple\")\n",
        "print('discard',s)\n",
        "x = s.pop()\n",
        "print(x)\n",
        "print(s)\n",
        "s.clear()\n",
        "print(s)\n",
        "\n",
        "set1 = {\"a\", \"b\" , \"c\"}\n",
        "set2 = {1, 2, 3}\n",
        "# returns set contain the union of set\n",
        "set3 = set1.union(set2)\n",
        "print(set3)\n",
        "set1.update(set2)\n",
        "print(set1)\n",
        "# note the double round-brackets\n",
        "thisset = set((\"apple\", \"banana\", \"cherry\")) \n",
        "print(thisset)\n",
        "x = {\"apple\", \"banana\", \"cherry\"}\n",
        "y = {\"google\", \"microsoft\", \"apple\"}\n",
        "\n",
        "# returns set contain difference of two or more\n",
        "z = x.difference(y)\n",
        "print(z)\n",
        "\n",
        "# returns intersection of other two set\n",
        "z = x.intersection(y)\n",
        "print(z)\n",
        "\n",
        "# remove the items that are present in other\n",
        "x.intersection_update(y)\n",
        "print(x)\n",
        "\n",
        "x = {\"a\", \"b\", \"c\"}\n",
        "y = {\"f\", \"e\", \"d\", \"c\", \"b\", \"a\"}\n",
        "\n",
        "# check whether set contains or not\n",
        "z = x.issubset(y)\n",
        "print(z)\n",
        "\n",
        "x = {\"f\", \"e\", \"d\", \"c\", \"b\", \"a\"}\n",
        "y = {\"a\", \"b\", \"c\"}\n",
        "\n",
        "# return set contain another set or not\n",
        "z = x.issuperset(y)\n",
        "print(z)\n",
        "\n",
        "x = {\"apple\", \"banana\", \"cherry\"}\n",
        "y = {\"google\", \"microsoft\", \"apple\"}\n",
        "\n",
        "# symmetric difference of two sets\n",
        "z = x.symmetric_difference(y)\n",
        "print(z)"
      ],
      "execution_count": null,
      "outputs": []
    },
    {
      "cell_type": "markdown",
      "metadata": {
        "id": "GfjswfR6Sr4a"
      },
      "source": [
        "#**Functions :**"
      ]
    },
    {
      "cell_type": "code",
      "metadata": {
        "id": "L-X9rGq6QaP-",
        "outputId": "4e7d3cb4-e497-40e8-9dec-0fc414594744",
        "colab": {
          "base_uri": "https://localhost:8080/"
        }
      },
      "source": [
        "  '''\n",
        "Topic: Functions\n",
        "'''\n",
        "\n",
        "def argsms(b,a=10):\n",
        "    return a+b\n",
        "\n",
        "print(argsms(6))\n",
        "\n",
        "def foo2():\n",
        "    global y\n",
        "    y = \"local\"\n",
        "\n",
        "def printword():\n",
        "    print('word in another function',y)\n",
        "\n",
        "foo2()\n",
        "printword()\n",
        "# print(y)\n",
        "\n",
        "\n",
        "x = \"global\"\n",
        "def foo():\n",
        "    global x\n",
        "    y = \"local\"\n",
        "    x = x * 2\n",
        "    print('value of x',x)\n",
        "    print(y)\n",
        "foo()\n",
        "\n",
        "\n",
        "# recursions\n",
        "def factorial(n):    \n",
        "    if n == 1:\n",
        "        print(n)\n",
        "        return 1    \n",
        "    else:\n",
        "        print (n,'*', end=' ')\n",
        "        return n * factorial(n-1)\n",
        "\n",
        "factorial(5)\n",
        "\n",
        "\n",
        "def calc(n):\n",
        "    return n*n\n",
        "\n",
        "num = (1,2,3,4,5)\n",
        "result= map(calc, num)\n",
        "print('Result',list(result))\n",
        "\n",
        "\n",
        "result1= map(lambda x: x*x, num)\n",
        "print('Result',list(result1))\n",
        "\n",
        "\n",
        "def convert(list):\n",
        "    s = [str(i) for i in list] \n",
        "    res = int(\"\".join(s)) \n",
        "    return(res) \n",
        "# Driver code \n",
        "list = [1, 2, 3] \n",
        "print(convert(list))\n",
        "\n",
        "\n",
        "\n",
        "# GCD\n",
        "def gcdrec(a,b):\n",
        "    if(b==0):\n",
        "        return a\n",
        "    else:\n",
        "        return gcdrec(b,a%b)\n",
        "\n",
        "print(gcdrec(10,5))\n",
        "\n",
        "# GCD with looping\n",
        "def loopgcd(x,y):\n",
        "    if x>y:\n",
        "        s=y\n",
        "    else:\n",
        "        s=y\n",
        "    for i in range(1,s+1):\n",
        "        if((x%i==0) and (y%i==0)):\n",
        "            gcd =i\n",
        "    return gcd\n",
        "\n",
        "print(loopgcd(10,5))"
      ],
      "execution_count": null,
      "outputs": [
        {
          "output_type": "stream",
          "text": [
            "16\n",
            "word in another function local\n",
            "value of x globalglobal\n",
            "local\n",
            "5 * 4 * 3 * 2 * 1\n",
            "Result [1, 4, 9, 16, 25]\n",
            "Result [1, 4, 9, 16, 25]\n",
            "123\n",
            "5\n",
            "5\n"
          ],
          "name": "stdout"
        }
      ]
    },
    {
      "cell_type": "code",
      "metadata": {
        "id": "g8eyLcbpRWir"
      },
      "source": [
        "'''\n",
        "Topic: Built-In Functions\n",
        "'''\n",
        "\n",
        "'''\n",
        "abs()\t          returns absolute value of a number\n",
        "bin()\t          converts integer to binary string\n",
        "chr()\t          Returns a Character (a string) from an Integer\n",
        "complex()       Creates a Complex Number\n",
        "dir()           Tries to Return Attributes of Object\n",
        "divmod()        Returns a Tuple of Quotient and Remainder\n",
        "enumerate()\t    Returns an Enumerate Object\n",
        "eval()\t        Runs Code Within Program\n",
        "filter()        constructs iterator from elements which are true\n",
        "format()        returns formatted representation of a value\n",
        "hash()          returns hash value of an object\n",
        "hex()\t          Converts to Integer to Hexadecimal\n",
        "iter()\t        returns an iterator\n",
        "next()\t        Retrieves next item from the iterator\n",
        "map()\t          Applies Function and Returns a List\n",
        "oct()\t          returns the octal representation of an integer\n",
        "ord()\t          returns an integer of the Unicode character\n",
        "pow()\t          returns the power of a number\n",
        "reversed()      returns the reversed iterator of a sequence\n",
        "round()         rounds a number to specified decimals\n",
        "slice()         returns a slice object\n",
        "sorted()        returns a sorted list from the given iterable\n",
        "sum()           Adds items of an Iterable\n",
        "'''\n",
        "\n",
        "\n",
        "# abs()\n",
        "integer = -20           # random integer\n",
        "print('Absolute value of -20 is:', abs(integer))\n",
        "floating = -30.33       #random floating number\n",
        "print('Absolute value of -30.33 is:', abs(floating))\n",
        "\n",
        "# bin()\n",
        "number = 5\n",
        "print('The binary equivalent of 5 is:', bin(number))\n",
        "\n",
        "# chr()\n",
        "print(chr(65))\n",
        "print(chr(102))\n",
        "\n",
        "# complex()\n",
        "z = complex(2, -3)\n",
        "print(z)\n",
        "z = complex(1)\n",
        "print(z)\n",
        "z = complex()\n",
        "print(z)\n",
        "z = complex('5-9j')\n",
        "print(z)\n",
        "\n",
        "# dir function\n",
        "def dump_sys(value):\n",
        "    print( value, \"=>\", dir(value))\n",
        "\n",
        "'''\n",
        "dump_sys(0)\n",
        "dump_sys(1.0)\n",
        "dump_sys(0.0j) # complex number\n",
        "dump_sys([]) # list\n",
        "dump_sys({}) # dictionary\n",
        "dump_sys(\"string\")\n",
        "dump_sys(len) # function\n",
        "dump_sys(sys) # module\n",
        "'''\n",
        "\n",
        "# divmod()\n",
        "print('divmod(8, 3) = ', divmod(8, 3))\n",
        "print('divmod(3, 8) = ', divmod(3, 8))\n",
        "print('divmod(5, 5) = ', divmod(5, 5))\n",
        "# divmod() with Floats\n",
        "print('divmod(8.0, 3) = ', divmod(8.0, 3))\n",
        "print('divmod(3, 8.0) = ', divmod(3, 8.0))\n",
        "print('divmod(7.5, 2.5) = ', divmod(7.5, 2.5))\n",
        "print('divmod(2.6, 0.5) = ', divmod(2.6, 0.5))\n",
        "'''\n",
        "# enumerate()\n",
        "grocery = ['bread', 'milk', 'butter']\n",
        "enumerateGrocery = enumerate(grocery)\n",
        "Print(type(enumerateGrocery))\n",
        "\n",
        "# converting to list\n",
        "print(list(enumerateGrocery))\n",
        "\n",
        "# changing the default counter\n",
        "enumerateGrocery = enumerate(grocery, 10)\n",
        "print(list(enumerateGrocery))\n",
        "'''\n",
        "# eval\n",
        "def dump_eval(expression):\n",
        "    result = eval(expression)\n",
        "    print (expression, \"=>\", result, type(result))\n",
        "\n",
        "dump_eval(\"1\")\n",
        "dump_eval(\"1.0\")\n",
        "dump_eval(\"'string'\")\n",
        "dump_eval(\"1.0 + 2.0\")\n",
        "dump_eval(\"'*' * 10\")\n",
        "dump_eval(\"len('world')\")\n",
        "\n",
        "\n",
        "# filter()\n",
        "my_list = [12, 65, 54, 39, 102, 339, 221, 50, 70, ]\n",
        "result = list(filter(lambda x: (x % 13 == 0), my_list))  \n",
        "print(result)\n",
        "palin_list = [\"loyol\", \"fruit\", \"lol\", \"practice\", \"aa\"]\n",
        "result = list(filter(lambda x: (x == \"\".join(reversed(x))), palin_list))\n",
        "print(result)\n",
        "\n",
        "# format()\n",
        "print(format(123, \"d\"))\n",
        "# float arguments\n",
        "print(format(123.4567898, \"f\"))\n",
        "# binary format\n",
        "print(format(12, \"b\"))\n",
        "\n",
        "\n",
        "# hash()\n",
        "# hash for integer\n",
        "print('Hash for 181 is:', hash(181))\n",
        "# hash for decimal\n",
        "print('Hash for 181.23 is:',hash(181.23))\n",
        "# hash for string\n",
        "print('Hash for Python is:', hash('Python'))\n",
        "\n",
        "\n",
        "# hex()\n",
        "number = 435\n",
        "print(number, 'in hex =', hex(number))\n",
        "number = 0\n",
        "print(number, 'in hex =', hex(number))\n",
        "number = -34\n",
        "print(number, 'in hex =', hex(number))\n",
        "returnType = type(hex(number))\n",
        "print('Return type from hex() is', returnType)\n",
        "\n",
        "\n",
        "# iter() and next()\n",
        "vowels = ['a', 'e', 'i', 'o', 'u']\n",
        "vowels_iter = iter(vowels)\n",
        "print(next(vowels_iter))\n",
        "print(next(vowels_iter))\n",
        "print(next(vowels_iter))\n",
        "print(next(vowels_iter))\n",
        "print(next(vowels_iter))\n",
        "\n",
        "# map()\n",
        "def calculateSquare(n):\n",
        "  return n*n\n",
        "\n",
        "numbers = (1, 2, 3, 4)\n",
        "result = map(calculateSquare, numbers)\n",
        "print(result)\n",
        "# converting map object to set\n",
        "numbersSquare = set(result)\n",
        "print(numbersSquare)\n",
        "\n",
        "\n",
        "# oct()\n",
        "print('oct(10) is:', oct(10))           # decimal to octal\n",
        "print('oct(0b101) is:', oct(0b101))     # binary to octal\n",
        "print('oct(0XA) is:', oct(0XA))         # hexadecimal to octal\n",
        "\n",
        "\n",
        "# ord()\n",
        "print(ord('5'))\n",
        "print(ord('A'))\n",
        "print(ord('$'))\n",
        "\n",
        "\n",
        "# pow()\n",
        "print(pow(2, 2))                    # positive x, positive y (x**y)\n",
        "print(pow(-2, 2))                   # negative x, positive y\n",
        "print(pow(2, -2))                   # positive x, negative y\n",
        "print(pow(-2, -2))                  # negative x, negative y\n",
        "\n",
        "\n",
        "# reversed()\n",
        "# for string\n",
        "seq_string = 'Python'\n",
        "print(list(reversed(seq_string)))\n",
        "# for tuple\n",
        "seq_tuple = ('P', 'y', 't', 'h', 'o', 'n')\n",
        "print(list(reversed(seq_tuple)))\n",
        "# for range\n",
        "seq_range = range(5, 9)\n",
        "print(list(reversed(seq_range)))\n",
        "# for list\n",
        "seq_list = [1, 2, 4, 3, 5]\n",
        "print(list(reversed(seq_list)))\n",
        "\n",
        "\n",
        "# round()\n",
        "# for floating point\n",
        "print(round(10.7))\n",
        "# even choice\n",
        "print(round(5.5))\n",
        "\n",
        "\n",
        "# slice()\n",
        "py_string = 'Python'\n",
        "slice_object = slice(3) \n",
        "print(py_string[slice_object])  # Pyt\n",
        "# start = 1, stop = 6, step = 2\n",
        "# contains 1, 3 and 5 indices\n",
        "slice_object = slice(1, 6, 2)\n",
        "print(py_string[slice_object]) \n",
        "\n",
        "\n",
        "# sorted()\n",
        "fruits = ['lime', 'blueberry', 'plum', 'avocado']\n",
        "print(sorted(fruits))\n",
        "print(sorted(fruits, reverse=True))\n",
        "\n",
        "# sum()\n",
        "numbers = [2.5, 3, 4, -5]\n",
        "numbers_sum = sum(numbers)\n",
        "print(numbers_sum)\n",
        "numbers_sum = sum(numbers, 10)\n",
        "print(numbers_sum)"
      ],
      "execution_count": null,
      "outputs": []
    },
    {
      "cell_type": "code",
      "metadata": {
        "id": "78sP_Ls_RlYI"
      },
      "source": [
        "'''\n",
        "Topic: args & kargs in functions\n",
        "'''\n",
        "\n",
        "def sum(a, b):\n",
        "    print(\"sum is\", a+b)\n",
        "\n",
        "# **kwargs\n",
        "def my_func(**kwargs):\n",
        "    for i, j in kwargs.items():\n",
        "        print(i, j)\n",
        "\n",
        "my_func(name='tim', sport='football', roll=19)\n",
        "\n",
        "# not possible with kargs & args\n",
        "# print(dir(kargs))\n",
        "# print(dir(**kargs))\n",
        "\n",
        "\n",
        "# *args and **kwargs in function call\n",
        "\n",
        "def my_three(a, b, c):\n",
        "    print(a, b, c)\n",
        "\n",
        "x = [1,2,3]\n",
        "my_three(*x)\n",
        "\n",
        "\n",
        "def my_three(a, b, c):\n",
        "    print(a, b, c)\n",
        "\n",
        "a = {'a': \"one\", 'b': \"two\", 'c': \"three\" }\n",
        "my_three(**a)\n",
        "\n",
        "\n",
        "\n",
        "# *args\n",
        "def sum(*args):\n",
        "    s = 0\n",
        "    for i in args:\n",
        "        s += i\n",
        "    print(\"sum is\", s)\n",
        "\n",
        "print(sum(1, 2, 3))\n",
        "print(sum(1, 2, 3, 4, 5, 7, 8, 9, 10))\n",
        "print(sum())"
      ],
      "execution_count": null,
      "outputs": []
    },
    {
      "cell_type": "markdown",
      "metadata": {
        "id": "1HBqHRY8TZoz"
      },
      "source": [
        "#Class and Objects"
      ]
    },
    {
      "cell_type": "code",
      "metadata": {
        "id": "9vPpi2R8TPKR",
        "outputId": "4576e616-dfea-4874-bc29-be9baa7183fb",
        "colab": {
          "base_uri": "https://localhost:8080/"
        }
      },
      "source": [
        "'''\n",
        "Topic: Object Oriented Programming\n",
        "'''\n",
        "'''\n",
        "* Python is a multi-paradigm programming language.\n",
        "* object has two characteristics 1) attributes and 2) behavior\n",
        "OOP Principles:\n",
        "Inheritance     - A process of using details from a new class without modifying existing class.\n",
        "Encapsulation   - Hiding the private details of a class from other objects.\n",
        "Polymorphism    - A concept of using common operation in different ways for different data input.\n",
        "'''\n",
        "\n",
        "# 1) Creating Class and Object in Python\n",
        "class Parrot:\n",
        "\n",
        "    # class attribute\n",
        "    species = \"bird\"\n",
        "\n",
        "    # instance attribute\n",
        "    def __init__(self, name, age):\n",
        "        self.name = name\n",
        "        self.age = age\n",
        "\n",
        "# instantiate the Parrot class\n",
        "blu = Parrot(\"Blu\", 10)\n",
        "woo = Parrot(\"Woo\", 15)\n",
        "\n",
        "# access the class attributes\n",
        "print(\"Blu is a {}\".format(blu.__class__.species))\n",
        "print(\"Woo is also a {}\".format(woo.__class__.species))\n",
        "\n",
        "# access the instance attributes\n",
        "print(\"{} is {} years old\".format( blu.name, blu.age))\n",
        "print(\"{} is {} years old\".format( woo.name, woo.age))"
      ],
      "execution_count": null,
      "outputs": [
        {
          "output_type": "stream",
          "text": [
            "Blu is a bird\n",
            "Woo is also a bird\n",
            "Blu is 10 years old\n",
            "Woo is 15 years old\n"
          ],
          "name": "stdout"
        }
      ]
    },
    {
      "cell_type": "code",
      "metadata": {
        "id": "GTXyJEuKTgfc",
        "outputId": "769f2903-7e70-4d03-aca6-5eb86db6e833",
        "colab": {
          "base_uri": "https://localhost:8080/"
        }
      },
      "source": [
        "'''\n",
        "Topic: Creating Methods in OOP\n",
        "'''\n",
        "\n",
        "\n",
        "class Parrot:\n",
        "    \n",
        "    # instance attributes\n",
        "    def __init__(self, name, age):\n",
        "        self.name = name\n",
        "        self.age = age\n",
        "    \n",
        "    # instance method\n",
        "    def sing(self, song):\n",
        "        return \"{} sings {}\".format(self.name, song)\n",
        "\n",
        "    def dance(self):\n",
        "        return \"{} is now dancing\".format(self.name)\n",
        "\n",
        "# instantiate the object\n",
        "blu = Parrot(\"Blu\", 10)\n",
        "\n",
        "# call our instance methods\n",
        "print(blu.sing(\"'Happy'\"))\n",
        "print(blu.dance())"
      ],
      "execution_count": null,
      "outputs": [
        {
          "output_type": "stream",
          "text": [
            "Blu sings 'Happy'\n",
            "Blu is now dancing\n"
          ],
          "name": "stdout"
        }
      ]
    },
    {
      "cell_type": "code",
      "metadata": {
        "id": "VlT4QrfITzEF",
        "outputId": "ca0e8a6e-0fe0-4d3b-8b48-b71fbe84e25c",
        "colab": {
          "base_uri": "https://localhost:8080/"
        }
      },
      "source": [
        "'''\n",
        "Topic: Inheritance\n",
        "'''\n",
        "\n",
        "'''\n",
        "Inheritance syntax\n",
        "class BaseClass:\n",
        "  Body of base class\n",
        "class DerivedClass(BaseClass):\n",
        "  Body of derived class\n",
        "'''\n",
        "\n",
        "# single inheritance\n",
        "class Bird:             # parent class\n",
        "    \n",
        "    def __init__(self):\n",
        "        print(\"Bird is ready\")\n",
        "\n",
        "    def whoisThis(self):\n",
        "        print(\"Bird\")\n",
        "\n",
        "    def swim(self):\n",
        "        print(\"Swim faster\")\n",
        "\n",
        "# child class\n",
        "class Penguin(Bird):\n",
        "\n",
        "    def __init__(self):\n",
        "        # call super() function\n",
        "        super().__init__()\n",
        "        print(\"Penguin is ready\")\n",
        "\n",
        "    def whoisThis(self):\n",
        "        print(\"Penguin\")\n",
        "\n",
        "    def run(self):\n",
        "        print(\"Run faster\")\n",
        "\n",
        "peggy = Penguin()\n",
        "peggy.whoisThis()\n",
        "peggy.swim()\n",
        "peggy.run()\n",
        "\n",
        "\n",
        "# Multiple Inheritance\n",
        "class Base1:\n",
        "    pass\n",
        "class Base2:\n",
        "    pass\n",
        "class MultiDerived(Base1, Base2):\n",
        "    pass\n",
        "\n",
        "# multilevel inheritance\n",
        "class Base:\n",
        "    pass\n",
        "class Derived1(Base):\n",
        "    pass\n",
        "class Derived2(Derived1):\n",
        "    pass"
      ],
      "execution_count": null,
      "outputs": [
        {
          "output_type": "stream",
          "text": [
            "Bird is ready\n",
            "Penguin is ready\n",
            "Penguin\n",
            "Swim faster\n",
            "Run faster\n"
          ],
          "name": "stdout"
        }
      ]
    },
    {
      "cell_type": "code",
      "metadata": {
        "id": "MTxgELIwT54d",
        "outputId": "68e60229-a6a8-4cfa-f258-e239a8f68b61",
        "colab": {
          "base_uri": "https://localhost:8080/"
        }
      },
      "source": [
        "'''\n",
        "Topic: Encapsulation\n",
        "'''\n",
        "\n",
        "class Computer:\n",
        "\n",
        "    def __init__(self):\n",
        "        self.__maxprice = 900\n",
        "\n",
        "    def sell(self):\n",
        "        print(\"Selling Price: {}\".format(self.__maxprice))\n",
        "\n",
        "    def setMaxPrice(self, price):\n",
        "        self.__maxprice = price\n",
        "\n",
        "c = Computer()\n",
        "c.sell()\n",
        "\n",
        "# change the price\n",
        "c.__maxprice = 1000\n",
        "c.sell()\n",
        "\n",
        "# using setter function\n",
        "c.setMaxPrice(1000)\n",
        "c.sell()"
      ],
      "execution_count": null,
      "outputs": [
        {
          "output_type": "stream",
          "text": [
            "Selling Price: 900\n",
            "Selling Price: 900\n",
            "Selling Price: 1000\n"
          ],
          "name": "stdout"
        }
      ]
    },
    {
      "cell_type": "code",
      "metadata": {
        "id": "S9zMhnXJT_cZ",
        "outputId": "9f585a99-dbdf-49c5-f5ea-5c88a3368a04",
        "colab": {
          "base_uri": "https://localhost:8080/"
        }
      },
      "source": [
        "'''\n",
        "Topic: Polymorphism\n",
        "'''\n",
        "\n",
        "class Parrot:\n",
        "\n",
        "    def fly(self):\n",
        "        print(\"Parrot can fly\")\n",
        "    \n",
        "    def swim(self):\n",
        "        print(\"Parrot can't swim\")\n",
        "\n",
        "class Penguin:\n",
        "\n",
        "    def fly(self):\n",
        "        print(\"Penguin can't fly\")\n",
        "    \n",
        "    def swim(self):\n",
        "        print(\"Penguin can swim\")\n",
        "\n",
        "# common interface\n",
        "def flying_test(bird):\n",
        "    bird.fly()\n",
        "\n",
        "#instantiate objects\n",
        "blu = Parrot()\n",
        "peggy = Penguin()\n",
        "\n",
        "# passing the object\n",
        "flying_test(blu)\n",
        "flying_test(peggy)"
      ],
      "execution_count": null,
      "outputs": [
        {
          "output_type": "stream",
          "text": [
            "Parrot can fly\n",
            "Penguin can't fly\n"
          ],
          "name": "stdout"
        }
      ]
    },
    {
      "cell_type": "code",
      "metadata": {
        "id": "2qOAswQyUGXR"
      },
      "source": [
        ""
      ],
      "execution_count": null,
      "outputs": []
    },
    {
      "cell_type": "markdown",
      "metadata": {
        "id": "EUKd4EQQU3ZL"
      },
      "source": [
        "#File Handling"
      ]
    },
    {
      "cell_type": "code",
      "metadata": {
        "id": "zKR4PbTXU5dH"
      },
      "source": [
        "'''\n",
        "Topic: Files\n",
        "'''\n",
        "\n",
        "'''\n",
        "Basic operations:\n",
        "1) Open a file\n",
        "2) Read or write (perform operation)\n",
        "3) Close the file\n",
        "File modes\n",
        "'r'     Open a file for reading. (default)\n",
        "'w'     Open a file for writing. Creates a new file if it does not exist or truncates the file if it exists.\n",
        "'x'     Open a file for exclusive creation. If the file already exists, the operation fails.\n",
        "'a'     Open for appending at the end of the file without truncating it. Creates a new file if it does not exist.\n",
        "'t'     Open in text mode. (default)\n",
        "'b'     Open in binary mode.\n",
        "'+'     Open a file for updating (reading and writing)\n",
        "'''\n",
        "'''\n",
        "# open file\n",
        "f = open(\"\")\n",
        "# f = open(\"file-path/filename.txt\")\n",
        "# read mode\n",
        "f = open(\"test.txt\",'r',encoding = 'utf-8')\n",
        "print(f.read())\n",
        "'''\n",
        "# write mode\n",
        "with open(\"test.txt\",'w',encoding = 'utf-8') as f:\n",
        "   f.write(\"my first file\\n\")\n",
        "   f.write(\"This file\\n\\n\")\n",
        "   f.write(\"contains three lines\\n\")"
      ],
      "execution_count": null,
      "outputs": []
    },
    {
      "cell_type": "code",
      "metadata": {
        "id": "mdGeV2O5U8pb"
      },
      "source": [
        "!wget https://github.com/RamkumarMrj/Python3-reference"
      ],
      "execution_count": null,
      "outputs": []
    },
    {
      "cell_type": "code",
      "metadata": {
        "id": "BHT9r1ySVRgW"
      },
      "source": [
        "!ls"
      ],
      "execution_count": null,
      "outputs": []
    },
    {
      "cell_type": "code",
      "metadata": {
        "id": "lpPZ_llmVT-L"
      },
      "source": [
        ""
      ],
      "execution_count": null,
      "outputs": []
    },
    {
      "cell_type": "markdown",
      "metadata": {
        "id": "GwhpCNSiWY82"
      },
      "source": [
        "#Classes"
      ]
    },
    {
      "cell_type": "code",
      "metadata": {
        "id": "nhFroQWXWeJ7",
        "outputId": "d63efdd6-0f69-481d-d6de-a42bcc287a5f",
        "colab": {
          "base_uri": "https://localhost:8080/",
          "height": 51
        }
      },
      "source": [
        "class demo:\n",
        "  #pass\n",
        "  def recur():\n",
        "    print(\"hello 1\")\n",
        "  print(\"null\")\n",
        "print(\"hello 2\")"
      ],
      "execution_count": null,
      "outputs": [
        {
          "output_type": "stream",
          "text": [
            "null\n",
            "hello 2\n"
          ],
          "name": "stdout"
        }
      ]
    },
    {
      "cell_type": "code",
      "metadata": {
        "id": "dqLVa7_kWpCN",
        "outputId": "cf31fd52-9632-421d-d078-84f94a1ab2b6",
        "colab": {
          "base_uri": "https://localhost:8080/",
          "height": 34
        }
      },
      "source": [
        "try :\n",
        "  import maths\n",
        "  print(\"maths Eroor\")\n",
        "except:\n",
        "  import math\n",
        "  print(\"package imported\")"
      ],
      "execution_count": null,
      "outputs": [
        {
          "output_type": "stream",
          "text": [
            "package imported\n"
          ],
          "name": "stdout"
        }
      ]
    },
    {
      "cell_type": "markdown",
      "metadata": {
        "id": "5NnvqWWwXS9c"
      },
      "source": [
        "#numpy"
      ]
    },
    {
      "cell_type": "code",
      "metadata": {
        "id": "5J72bjTTXUHg"
      },
      "source": [
        "import numpy as np"
      ],
      "execution_count": null,
      "outputs": []
    },
    {
      "cell_type": "code",
      "metadata": {
        "id": "dQL_26vUXY9A",
        "outputId": "dd14e6d4-7fa9-46a0-aea8-e5031dc46199",
        "colab": {
          "base_uri": "https://localhost:8080/",
          "height": 34
        }
      },
      "source": [
        "x = np.array([1,2,3])\n",
        "print(x)"
      ],
      "execution_count": null,
      "outputs": [
        {
          "output_type": "stream",
          "text": [
            "[1 2 3]\n"
          ],
          "name": "stdout"
        }
      ]
    },
    {
      "cell_type": "code",
      "metadata": {
        "id": "6RlBy5-6XhHp",
        "outputId": "e69c14bf-e350-4cdc-c1e1-be5762c63375",
        "colab": {
          "base_uri": "https://localhost:8080/",
          "height": 34
        }
      },
      "source": [
        "#float, string...etc\n",
        "x.shape"
      ],
      "execution_count": null,
      "outputs": [
        {
          "output_type": "execute_result",
          "data": {
            "text/plain": [
              "(3,)"
            ]
          },
          "metadata": {
            "tags": []
          },
          "execution_count": 49
        }
      ]
    },
    {
      "cell_type": "code",
      "metadata": {
        "id": "aPZLtRf0XrFF"
      },
      "source": [
        "# Description or Error defination help"
      ],
      "execution_count": null,
      "outputs": []
    },
    {
      "cell_type": "code",
      "metadata": {
        "id": "uE0tXfcrXxGX"
      },
      "source": [
        "np.array?"
      ],
      "execution_count": null,
      "outputs": []
    },
    {
      "cell_type": "markdown",
      "metadata": {
        "id": "q52Bbf4NYLPC"
      },
      "source": [
        "#plotting\n"
      ]
    },
    {
      "cell_type": "code",
      "metadata": {
        "id": "12y-dvw9X9a9"
      },
      "source": [
        "import matplotlib.pyplot as plt"
      ],
      "execution_count": null,
      "outputs": []
    },
    {
      "cell_type": "code",
      "metadata": {
        "id": "zXiSHuplYW18"
      },
      "source": [
        "x = np.random.random([10,1])"
      ],
      "execution_count": null,
      "outputs": []
    },
    {
      "cell_type": "code",
      "metadata": {
        "id": "JEgtY21iYkS2",
        "outputId": "1d9337ea-67db-4b13-9246-991eb2b85024",
        "colab": {
          "base_uri": "https://localhost:8080/",
          "height": 187
        }
      },
      "source": [
        "print(x)"
      ],
      "execution_count": null,
      "outputs": [
        {
          "output_type": "stream",
          "text": [
            "[[0.87146438]\n",
            " [0.94360818]\n",
            " [0.11632644]\n",
            " [0.15957764]\n",
            " [0.50353106]\n",
            " [0.71926781]\n",
            " [0.16666178]\n",
            " [0.54680904]\n",
            " [0.87775435]\n",
            " [0.72166334]]\n"
          ],
          "name": "stdout"
        }
      ]
    },
    {
      "cell_type": "code",
      "metadata": {
        "id": "W_410MfMYl2d",
        "outputId": "aad8255b-9a9c-4291-d8d8-d7201e229b02",
        "colab": {
          "base_uri": "https://localhost:8080/",
          "height": 265
        }
      },
      "source": [
        "plt.plot(x)\n",
        "plt.show()"
      ],
      "execution_count": null,
      "outputs": [
        {
          "output_type": "display_data",
          "data": {
            "image/png": "[encoded data removed]",
            "text/plain": [
              "<Figure size 432x288 with 1 Axes>"
            ]
          },
          "metadata": {
            "tags": [],
            "needs_background": "light"
          }
        }
      ]
    },
    {
      "cell_type": "code",
      "metadata": {
        "id": "FgXqgUFHZCAM",
        "outputId": "dbd11e6a-2cea-4f58-8b5e-305bb702e0e2",
        "colab": {
          "base_uri": "https://localhost:8080/",
          "height": 265
        }
      },
      "source": [
        "plt.plot(x, '*')\n",
        "plt.show()"
      ],
      "execution_count": null,
      "outputs": [
        {
          "output_type": "display_data",
          "data": {
            "image/png": "[encoded data removed]",
            "text/plain": [
              "<Figure size 432x288 with 1 Axes>"
            ]
          },
          "metadata": {
            "tags": [],
            "needs_background": "light"
          }
        }
      ]
    },
    {
      "cell_type": "code",
      "metadata": {
        "id": "KphE0uqFZT_m",
        "outputId": "5072b082-adb7-40c7-d63c-cf3b0068e8ba",
        "colab": {
          "base_uri": "https://localhost:8080/",
          "height": 265
        }
      },
      "source": [
        "plt.plot(x,'*-')\n",
        "plt.show()"
      ],
      "execution_count": null,
      "outputs": [
        {
          "output_type": "display_data",
          "data": {
            "image/png": "[encoded data removed]",
            "text/plain": [
              "<Figure size 432x288 with 1 Axes>"
            ]
          },
          "metadata": {
            "tags": [],
            "needs_background": "light"
          }
        }
      ]
    },
    {
      "cell_type": "code",
      "metadata": {
        "id": "NwCEuZGhZY7X"
      },
      "source": [
        "#sns.arg for different Charts"
      ],
      "execution_count": null,
      "outputs": []
    },
    {
      "cell_type": "code",
      "metadata": {
        "id": "OalUY-ETcClp"
      },
      "source": [
        "!pip list"
      ],
      "execution_count": null,
      "outputs": []
    },
    {
      "cell_type": "code",
      "metadata": {
        "id": "wHfeF2XGcGDF"
      },
      "source": [
        ""
      ],
      "execution_count": null,
      "outputs": []
    },
    {
      "cell_type": "markdown",
      "metadata": {
        "id": "yfGyfSXELkSB"
      },
      "source": [
        ""
      ]
    },
    {
      "cell_type": "markdown",
      "metadata": {
        "id": "OQ8b4jxeLmOw"
      },
      "source": [
        ""
      ]
    },
    {
      "cell_type": "markdown",
      "metadata": {
        "id": "87ALnOGmLmca"
      },
      "source": [
        "#"
      ]
    }
  ]
}