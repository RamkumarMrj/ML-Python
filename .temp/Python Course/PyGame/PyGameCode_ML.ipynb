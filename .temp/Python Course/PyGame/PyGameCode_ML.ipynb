{
  "nbformat": 4,
  "nbformat_minor": 0,
  "metadata": {
    "colab": {
      "name": "PyGameCode-ML.ipynb",
      "provenance": [],
      "collapsed_sections": []
    },
    "kernelspec": {
      "name": "python3",
      "display_name": "Python 3"
    }
  },
  "cells": [
    {
      "cell_type": "markdown",
      "metadata": {
        "id": "OFK82u1TDnKx"
      },
      "source": [
        "# Sentex Pygame Development using Python 3\n",
        "\n",
        "1.Completed DataCamp Python Tutorial :\n",
        "Chapter 1 : 100%\n",
        "\n",
        "2.PlayList from sentdex : https://www.youtube.com/playlist?list=PLQVvvaa0QuDdLkP8MrOXLe_rKuf6r80KO\n",
        "\n",
        "1.Game Development in Python3 with pygame - intro\n",
        "2.Displaying Image\n",
        "3.Moving an image\n",
        "4.Adding Boundries\n",
        "5.Display text on Screen"
      ]
    },
    {
      "cell_type": "markdown",
      "metadata": {
        "id": "gCrXxEdxGLes"
      },
      "source": [
        "# Day 10"
      ]
    },
    {
      "cell_type": "code",
      "metadata": {
        "id": "rG1BS1cuElt6"
      },
      "source": [
        "'''1. Game Development in Python3 with pygame - intro '''\n",
        "import pygame\n",
        "\n",
        "pygame.init()\n",
        "gameDisplay = pygame.display.set_mode((800,600))\n",
        "pygame.display.set_caption('A bit Racey')\n",
        "pygame.display.time.Clock()\n",
        "\n",
        "crashed = False\n",
        "\n",
        "while not crashed:\n",
        "  for event in pygame.event.get():\n",
        "    if event.type == pygame.QUIT:\n",
        "      crashed = True\n",
        "    print(event)\n",
        "  pygame.display.update()\n",
        "  clock.tick(60)\n",
        "pygame.quit()\n",
        "quit()"
      ],
      "execution_count": null,
      "outputs": []
    },
    {
      "cell_type": "code",
      "metadata": {
        "id": "0BzZgUxYFkjn"
      },
      "source": [
        "'''2. Game Development in Python3 with pygame - intro '''\n",
        "import pygame\n",
        "\n",
        "pygame.init()\n",
        "\n",
        "display_width = 800\n",
        "display_height = 600\n",
        "\n",
        "black = (0,0,0)\n",
        "white = (255,255,255)\n",
        "red = (255,0,0)\n",
        "\n",
        "gameDisplay = pygame.display.set_mode((display_width,display_height))\n",
        "pygame.display.set_caption('A bit Racey')\n",
        "pygame.display.time.Clock()\n",
        "\n",
        "carImg = pygame.image.load('racercar.png')\n",
        "\n",
        "def car(x,y):\n",
        "  gameDisplay.blit(carImg,(x,y))\n",
        "\n",
        "x = (display_width * 0.45)\n",
        "y = (display_height * 0.8)\n",
        "\n",
        "crashed = False\n",
        "\n",
        "while not crashed:\n",
        "  for event in pygame.event.get():\n",
        "    if event.type == pygame.QUIT:\n",
        "      crashed = True\n",
        "\n",
        "  gameDisplay.fill(white)\n",
        "  car(x,y)\n",
        "\n",
        "  pygame.display.update()\n",
        "  clock.tick(60)\n",
        "\n",
        "pygame.quit()\n",
        "quit()"
      ],
      "execution_count": null,
      "outputs": []
    },
    {
      "cell_type": "code",
      "metadata": {
        "id": "MuCu-7mGIiNf",
        "outputId": "20b40f6a-7fd1-4c6f-8511-960dad6d6e9b",
        "colab": {
          "base_uri": "https://localhost:8080/",
          "height": 35
        }
      },
      "source": [
        "'''3.Moving an image'''"
      ],
      "execution_count": null,
      "outputs": [
        {
          "output_type": "execute_result",
          "data": {
            "application/vnd.google.colaboratory.intrinsic+json": {
              "type": "string"
            },
            "text/plain": [
              "'3.Moving an image'"
            ]
          },
          "metadata": {
            "tags": []
          },
          "execution_count": 7
        }
      ]
    },
    {
      "cell_type": "code",
      "metadata": {
        "id": "ExyI3pirZqZd",
        "outputId": "97f26bdc-619e-4c6c-e9a1-16fa560c450c",
        "colab": {
          "base_uri": "https://localhost:8080/",
          "height": 35
        }
      },
      "source": [
        "'''4.Adding Boundries'''"
      ],
      "execution_count": null,
      "outputs": [
        {
          "output_type": "execute_result",
          "data": {
            "application/vnd.google.colaboratory.intrinsic+json": {
              "type": "string"
            },
            "text/plain": [
              "'4.Adding Boundries'"
            ]
          },
          "metadata": {
            "tags": []
          },
          "execution_count": 8
        }
      ]
    },
    {
      "cell_type": "code",
      "metadata": {
        "id": "3YP9g8aWZwGl",
        "outputId": "86f41a9c-26bc-415c-c567-624dcdcbe8bb",
        "colab": {
          "base_uri": "https://localhost:8080/",
          "height": 35
        }
      },
      "source": [
        "'''5.Display text on Screen'''"
      ],
      "execution_count": null,
      "outputs": [
        {
          "output_type": "execute_result",
          "data": {
            "application/vnd.google.colaboratory.intrinsic+json": {
              "type": "string"
            },
            "text/plain": [
              "'5.Display text on Screen'"
            ]
          },
          "metadata": {
            "tags": []
          },
          "execution_count": 9
        }
      ]
    }
  ]
}